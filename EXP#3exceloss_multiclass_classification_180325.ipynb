{
  "nbformat": 4,
  "nbformat_minor": 0,
  "metadata": {
    "colab": {
      "provenance": [],
      "include_colab_link": true
    },
    "kernelspec": {
      "name": "python3",
      "display_name": "Python 3"
    },
    "language_info": {
      "name": "python"
    }
  },
  "cells": [
    {
      "cell_type": "markdown",
      "metadata": {
        "id": "view-in-github",
        "colab_type": "text"
      },
      "source": [
        "<a href=\"https://colab.research.google.com/github/wajeehulhassan0051/Deep-learning-lab/blob/main/EXP%233exceloss_multiclass_classification_180325.ipynb\" target=\"_parent\"><img src=\"https://colab.research.google.com/assets/colab-badge.svg\" alt=\"Open In Colab\"/></a>"
      ]
    },
    {
      "cell_type": "code",
      "execution_count": null,
      "metadata": {
        "colab": {
          "base_uri": "https://localhost:8080/"
        },
        "id": "tZe5Kult2s_V",
        "outputId": "6030e2c6-1518-4606-936c-f8b70ac8d80b"
      },
      "outputs": [
        {
          "output_type": "stream",
          "name": "stdout",
          "text": [
            "Softmax Probabilities:\n",
            " [[0.52257153 0.19224332 0.0781603  0.0781603  0.12886455]\n",
            " [0.09015429 0.66615512 0.06678794 0.06678794 0.1101147 ]\n",
            " [0.04146764 0.04582883 0.75363897 0.08350558 0.07555897]\n",
            " [0.03962663 0.08819068 0.72018005 0.07979822 0.07220442]\n",
            " [0.0402704  0.07337745 0.73188008 0.08109462 0.07337745]]\n",
            "\n",
            "Log of Softmax Probabilities:\n",
            " [[-0.64899341 -1.64899341 -2.54899341 -2.54899341 -2.04899341]\n",
            " [-2.40623272 -0.40623272 -2.70623272 -2.70623272 -2.20623272]\n",
            " [-3.18284184 -3.08284184 -0.28284184 -2.48284184 -2.58284184]\n",
            " [-3.22825402 -2.42825402 -0.32825402 -2.52825402 -2.62825402]\n",
            " [-3.21213861 -2.61213861 -0.31213861 -2.51213861 -2.61213861]]\n",
            "\n",
            "y_true * log(probs):\n",
            " [[-0.64899341 -0.         -0.         -0.         -0.        ]\n",
            " [-0.         -0.40623272 -0.         -0.         -0.        ]\n",
            " [-0.         -0.         -0.28284184 -0.         -0.        ]\n",
            " [-0.         -0.         -0.         -2.52825402 -0.        ]\n",
            " [-0.         -0.         -0.         -0.         -2.61213861]]\n",
            "\n",
            "CE Loss per Sample: [0.64899341 0.40623272 0.28284184 2.52825402 2.61213861]\n",
            "\n",
            "Average CE Loss for the Dataset: 1.2956921213362698\n"
          ]
        }
      ],
      "source": [
        "import numpy as np\n",
        "\n",
        "# Ground truth labels (one-hot encoded)\n",
        "y_true = np.array([\n",
        "    [1, 0, 0, 0, 0],  # Sample 1: Class 1\n",
        "    [0, 1, 0, 0, 0],  # Sample 2: Class 2\n",
        "    [0, 0, 1, 0, 0],   # Sample 3: Class 3\n",
        "    [0, 0, 0, 1, 0],   # Sample 4: Class 4\n",
        "     [0, 0, 0, 0, 1],   # Sample 5: Class 5\n",
        "])\n",
        "\n",
        "# Model predictions (logits)\n",
        "logits = np.array([\n",
        "       [2.0, 1.0, 0.1, 0.1, 0.6],  # Sample 1\n",
        "    [0.5, 2.5, 0.2, 0.2, 0.7],  # Sample 2\n",
        "    [0.1, 0.2, 3.0, 0.8, 0.7],   # Sample 3\n",
        "     [0.1, 0.9, 3.0, 0.8, 0.7],   # Sample 4\n",
        "     [0.1, 0.7, 3.0, 0.8, 0.7],   # Sample 5\n",
        "\n",
        "])\n",
        "\n",
        "# Softmax function\n",
        "def softmax(x):\n",
        "    exp_x = np.exp(x - np.max(x, axis=-1, keepdims=True))  # Numerical stability\n",
        "    return exp_x / np.sum(exp_x, axis=-1, keepdims=True)\n",
        "\n",
        "# Compute softmax probabilities\n",
        "probs = softmax(logits)\n",
        "print(\"Softmax Probabilities:\\n\", probs)\n",
        "\n",
        "# Compute log(probs)\n",
        "log_probs = np.log(probs)\n",
        "print(\"\\nLog of Softmax Probabilities:\\n\", log_probs)\n",
        "\n",
        "# Compute y_true * log(probs)\n",
        "y_true_log_probs = y_true * log_probs\n",
        "print(\"\\ny_true * log(probs):\\n\", y_true_log_probs)\n",
        "\n",
        "# Compute CE loss for each sample\n",
        "ce_loss = -np.sum(y_true_log_probs, axis=-1)\n",
        "print(\"\\nCE Loss per Sample:\", ce_loss)\n",
        "\n",
        "# Average CE loss for the dataset\n",
        "avg_ce_loss = np.mean(ce_loss)\n",
        "print(\"\\nAverage CE Loss for the Dataset:\", avg_ce_loss)"
      ]
    }
  ]
}