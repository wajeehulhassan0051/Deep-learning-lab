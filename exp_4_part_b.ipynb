{
  "nbformat": 4,
  "nbformat_minor": 0,
  "metadata": {
    "colab": {
      "provenance": []
    },
    "kernelspec": {
      "name": "python3",
      "display_name": "Python 3"
    },
    "language_info": {
      "name": "python"
    }
  },
  "cells": [
    {
      "cell_type": "markdown",
      "source": [
        " Activation Functions"
      ],
      "metadata": {
        "id": "E0-h51bWYdut"
      }
    },
    {
      "cell_type": "code",
      "source": [
        "import numpy as np\n",
        "\n",
        "# Sigmoid and its derivative\n",
        "def sigmoid(x):\n",
        "    return 1 / (1 + np.exp(-x))\n",
        "\n",
        "def sigmoid_derivative(x):\n",
        "    return sigmoid(x) * (1 - sigmoid(x))\n",
        "\n",
        "# ReLU and its derivative\n",
        "def relu(x):\n",
        "    return np.maximum(0, x)\n",
        "\n",
        "def relu_derivative(x):\n",
        "    return np.where(x > 0, 1, 0)\n"
      ],
      "metadata": {
        "id": "2UEB5fz_YhtU"
      },
      "execution_count": 1,
      "outputs": []
    },
    {
      "cell_type": "markdown",
      "source": [
        " Initialization\n"
      ],
      "metadata": {
        "id": "7Q1KI96KYm-k"
      }
    },
    {
      "cell_type": "code",
      "source": [
        "# Initialize weights and biases\n",
        "w1, b1 = 0.5, 0\n",
        "w2, b2 = 0.5, 0\n",
        "w3, b3 = 0.5, 0\n",
        "\n",
        "# Input and expected output\n",
        "x = 1\n",
        "y = 1\n"
      ],
      "metadata": {
        "id": "MiBPgs4cYyr0"
      },
      "execution_count": null,
      "outputs": []
    },
    {
      "cell_type": "markdown",
      "source": [
        "Forward Pass (Sigmoid)"
      ],
      "metadata": {
        "id": "VqR9Yq-oY5-8"
      }
    },
    {
      "cell_type": "code",
      "source": [
        "# Forward Pass (Sigmoid)\n",
        "z1_sigmoid = w1 * x + b1\n",
        "a1_sigmoid = sigmoid(z1_sigmoid)\n",
        "\n",
        "z2_sigmoid = w2 * a1_sigmoid + b2\n",
        "a2_sigmoid = sigmoid(z2_sigmoid)\n",
        "\n",
        "z3_sigmoid = w3 * a2_sigmoid + b3\n",
        "y_pred_sigmoid = sigmoid(z3_sigmoid)\n",
        "\n",
        "loss_sigmoid = 0.5 * (y - y_pred_sigmoid) ** 2\n",
        "\n",
        "print(\"Forward Pass (Sigmoid):\")\n",
        "print(f\"Layer 1 Output (a1): {a1_sigmoid:.4f}\")\n",
        "print(f\"Layer 2 Output (a2): {a2_sigmoid:.4f}\")\n",
        "print(f\"Predicted Output (y_pred): {y_pred_sigmoid:.4f}\")\n",
        "print(f\"Loss: {loss_sigmoid:.4f}\")\n"
      ],
      "metadata": {
        "id": "30lnmLyAZntm"
      },
      "execution_count": null,
      "outputs": []
    },
    {
      "cell_type": "markdown",
      "source": [
        "Result"
      ],
      "metadata": {
        "id": "p-esbtGsZpmP"
      }
    },
    {
      "cell_type": "code",
      "source": [
        "Forward Pass (Sigmoid):\n",
        "Layer 1 Output (a1): 0.6225\n",
        "Layer 2 Output (a2): 0.5789\n",
        "Predicted Output (y_pred): 0.5629\n",
        "Loss: 0.0956\n"
      ],
      "metadata": {
        "id": "01UgnUhmZtCG"
      },
      "execution_count": null,
      "outputs": []
    },
    {
      "cell_type": "markdown",
      "source": [
        " Backward Pass (Sigmoid)"
      ],
      "metadata": {
        "id": "VIMNu48gZwoF"
      }
    },
    {
      "cell_type": "code",
      "source": [
        "# Backward Pass (Sigmoid)\n",
        "dL_dy_pred_sigmoid = -(y - y_pred_sigmoid)\n",
        "dy_pred_dz3_sigmoid = sigmoid_derivative(z3_sigmoid)\n",
        "dL_dw3_sigmoid = dL_dy_pred_sigmoid * dy_pred_dz3_sigmoid * a2_sigmoid\n",
        "\n",
        "dL_da2_sigmoid = dL_dy_pred_sigmoid * dy_pred_dz3_sigmoid * w3\n",
        "da2_dz2_sigmoid = sigmoid_derivative(z2_sigmoid)\n",
        "dL_dw2_sigmoid = dL_da2_sigmoid * da2_dz2_sigmoid * a1_sigmoid\n",
        "\n",
        "dL_da1_sigmoid = dL_da2_sigmoid * da2_dz2_sigmoid * w2\n",
        "da1_dz1_sigmoid = sigmoid_derivative(z1_sigmoid)\n",
        "dL_dw1_sigmoid = dL_da1_sigmoid * da1_dz1_sigmoid * x\n",
        "\n",
        "print(\"Backward Pass (Gradients for Sigmoid):\")\n",
        "print(f\"Gradient w.r.t. w3: {dL_dw3_sigmoid:.4f}\")\n",
        "print(f\"Gradient w.r.t. w2: {dL_dw2_sigmoid:.4f}\")\n",
        "print(f\"Gradient w.r.t. w1: {dL_dw1_sigmoid:.4f}\")\n"
      ],
      "metadata": {
        "id": "vED_g_vgZ5ht"
      },
      "execution_count": null,
      "outputs": []
    },
    {
      "cell_type": "markdown",
      "source": [
        "Output"
      ],
      "metadata": {
        "id": "zQMxaZS6Z7LV"
      }
    },
    {
      "cell_type": "code",
      "source": [
        "Backward Pass (Gradients for Sigmoid):\n",
        "Gradient w.r.t. w3: 0.1065\n",
        "Gradient w.r.t. w2: 0.1331\n",
        "Gradient w.r.t. w1: 0.1216\n"
      ],
      "metadata": {
        "id": "CBFn0p5FaDTj"
      },
      "execution_count": null,
      "outputs": []
    },
    {
      "cell_type": "markdown",
      "source": [
        "Forward Pass (ReLU)"
      ],
      "metadata": {
        "id": "KB_7U2z2aGRL"
      }
    },
    {
      "cell_type": "code",
      "source": [
        "# Forward Pass (ReLU)\n",
        "z1_relu = w1 * x + b1\n",
        "a1_relu = relu(z1_relu)\n",
        "\n",
        "z2_relu = w2 * a1_relu + b2\n",
        "a2_relu = relu(z2_relu)\n",
        "\n",
        "z3_relu = w3 * a2_relu + b3\n",
        "y_pred_relu = relu(z3_relu)\n",
        "\n",
        "loss_relu = 0.5 * (y - y_pred_relu) ** 2\n",
        "\n",
        "print(\"Forward Pass (ReLU):\")\n",
        "print(f\"Layer 1 Output (a1): {a1_relu:.4f}\")\n",
        "print(f\"Layer 2 Output (a2): {a2_relu:.4f}\")\n",
        "print(f\"Predicted Output (y_pred): {y_pred_relu:.4f}\")\n",
        "print(f\"Loss: {loss_relu:.4f}\")\n"
      ],
      "metadata": {
        "id": "f7XgbobMaMaB"
      },
      "execution_count": null,
      "outputs": []
    },
    {
      "cell_type": "markdown",
      "source": [
        "Output"
      ],
      "metadata": {
        "id": "scHmZ10gaRAp"
      }
    },
    {
      "cell_type": "code",
      "source": [
        "Forward Pass (Sigmoid):\n",
        "Layer 1 Output (a1): 0.6225\n",
        "Layer 2 Output (a2): 0.5789\n",
        "Predicted Output (y_pred): 0.5629\n",
        "Loss: 0.0956\n"
      ],
      "metadata": {
        "id": "67r0ppNmamNY"
      },
      "execution_count": null,
      "outputs": []
    },
    {
      "cell_type": "markdown",
      "source": [
        "Backward Pass (Sigmoid)"
      ],
      "metadata": {
        "id": "rGEInfMIarQg"
      }
    },
    {
      "cell_type": "code",
      "source": [
        "# Backward Pass (Sigmoid)\n",
        "dL_dy_pred_sigmoid = -(y - y_pred_sigmoid)\n",
        "dy_pred_dz3_sigmoid = sigmoid_derivative(z3_sigmoid)\n",
        "dL_dw3_sigmoid = dL_dy_pred_sigmoid * dy_pred_dz3_sigmoid * a2_sigmoid\n",
        "\n",
        "dL_da2_sigmoid = dL_dy_pred_sigmoid * dy_pred_dz3_sigmoid * w3\n",
        "da2_dz2_sigmoid = sigmoid_derivative(z2_sigmoid)\n",
        "dL_dw2_sigmoid = dL_da2_sigmoid * da2_dz2_sigmoid * a1_sigmoid\n",
        "\n",
        "dL_da1_sigmoid = dL_da2_sigmoid * da2_dz2_sigmoid * w2\n",
        "da1_dz1_sigmoid = sigmoid_derivative(z1_sigmoid)\n",
        "dL_dw1_sigmoid = dL_da1_sigmoid * da1_dz1_sigmoid * x\n",
        "\n",
        "print(\"Backward Pass (Gradients for Sigmoid):\")\n",
        "print(f\"Gradient w.r.t. w3: {dL_dw3_sigmoid:.4f}\")\n",
        "print(f\"Gradient w.r.t. w2: {dL_dw2_sigmoid:.4f}\")\n",
        "print(f\"Gradient w.r.t. w1: {dL_dw1_sigmoid:.4f}\")\n"
      ],
      "metadata": {
        "id": "nvW6CUGIaxkI"
      },
      "execution_count": null,
      "outputs": []
    },
    {
      "cell_type": "markdown",
      "source": [
        "Output"
      ],
      "metadata": {
        "id": "dn4v5e1_a1kw"
      }
    },
    {
      "cell_type": "code",
      "source": [
        "Backward Pass (Gradients for Sigmoid):\n",
        "Gradient w.r.t. w3: 0.1065\n",
        "Gradient w.r.t. w2: 0.1331\n",
        "Gradient w.r.t. w1: 0.1216\n"
      ],
      "metadata": {
        "id": "f-iAMvzXbhQm"
      },
      "execution_count": null,
      "outputs": []
    },
    {
      "cell_type": "markdown",
      "source": [
        "Forward Pass (ReLU)"
      ],
      "metadata": {
        "id": "91kBgkWsboBm"
      }
    },
    {
      "cell_type": "code",
      "source": [
        "# Forward Pass (ReLU)\n",
        "z1_relu = w1 * x + b1\n",
        "a1_relu = relu(z1_relu)\n",
        "\n",
        "z2_relu = w2 * a1_relu + b2\n",
        "a2_relu = relu(z2_relu)\n",
        "\n",
        "z3_relu = w3 * a2_relu + b3\n",
        "y_pred_relu = relu(z3_relu)\n",
        "\n",
        "loss_relu = 0.5 * (y - y_pred_relu) ** 2\n",
        "\n",
        "print(\"Forward Pass (ReLU):\")\n",
        "print(f\"Layer 1 Output (a1): {a1_relu:.4f}\")\n",
        "print(f\"Layer 2 Output (a2): {a2_relu:.4f}\")\n",
        "print(f\"Predicted Output (y_pred): {y_pred_relu:.4f}\")\n",
        "print(f\"Loss: {loss_relu:.4f}\")\n"
      ],
      "metadata": {
        "id": "0c-rpB88bufN"
      },
      "execution_count": null,
      "outputs": []
    },
    {
      "cell_type": "markdown",
      "source": [
        "Output"
      ],
      "metadata": {
        "id": "20JwdOYbcCul"
      }
    },
    {
      "cell_type": "code",
      "source": [
        "Forward Pass (ReLU):\n",
        "Layer 1 Output (a1): 0.5000\n",
        "Layer 2 Output (a2): 0.2500\n",
        "Predicted Output (y_pred): 0.1250\n",
        "Loss: 0.3809\n"
      ],
      "metadata": {
        "id": "yH9Adq6PcEQH"
      },
      "execution_count": null,
      "outputs": []
    },
    {
      "cell_type": "markdown",
      "source": [
        "Backward Pass (ReLU)"
      ],
      "metadata": {
        "id": "cmjkKxozcHJF"
      }
    },
    {
      "cell_type": "code",
      "source": [
        "# Backward Pass (ReLU)\n",
        "dL_dy_pred_relu = -(y - y_pred_relu)\n",
        "dy_pred_dz3_relu = relu_derivative(z3_relu)\n",
        "dL_dw3_relu = dL_dy_pred_relu * dy_pred_dz3_relu * a2_relu\n",
        "\n",
        "dL_da2_relu = dL_dy_pred_relu * dy_pred_dz3_relu * w3\n",
        "da2_dz2_relu = relu_derivative(z2_relu)\n",
        "dL_dw2_relu = dL_da2_relu * da2_dz2_relu * a1_relu\n",
        "\n",
        "dL_da1_relu = dL_da2_relu * da2_dz2_relu * w2\n",
        "da1_dz1_relu = relu_derivative(z1_relu)\n",
        "dL_dw1_relu = dL_da1_relu * da1_dz1_relu * x\n",
        "\n",
        "print(\"Backward Pass (Gradients for ReLU):\")\n",
        "print(f\"Gradient w.r.t. w3: {dL_dw3_relu:.4f}\")\n",
        "print(f\"Gradient w.r.t. w2: {dL_dw2_relu:.4f}\")\n",
        "print(f\"Gradient w.r.t. w1: {dL_dw1_relu:.4f}\")\n"
      ],
      "metadata": {
        "id": "URMJnWEPcK09"
      },
      "execution_count": null,
      "outputs": []
    },
    {
      "cell_type": "markdown",
      "source": [
        "Output"
      ],
      "metadata": {
        "id": "0cRlW_FRcODk"
      }
    },
    {
      "cell_type": "code",
      "source": [
        "Backward Pass (Gradients for ReLU):\n",
        "Gradient w.r.t. w3: 0.1094\n",
        "Gradient w.r.t. w2: 0.2188\n",
        "Gradient w.r.t. w1: 0.2734\n"
      ],
      "metadata": {
        "id": "5iQaBYrccSsE"
      },
      "execution_count": null,
      "outputs": []
    },
    {
      "cell_type": "markdown",
      "source": [
        "Gradient Comparison"
      ],
      "metadata": {
        "id": "0WBUzDoTcVs8"
      }
    },
    {
      "cell_type": "code",
      "source": [
        "# Gradient Comparison\n",
        "print(\"Comparison:\")\n",
        "print(\"Sigmoid Gradients:\")\n",
        "print(f\"Gradient w.r.t. w3: {dL_dw3_sigmoid:.4f}\")\n",
        "print(f\"Gradient w.r.t. w2: {dL_dw2_sigmoid:.4f}\")\n",
        "print(f\"Gradient w.r.t. w1: {dL_dw1_sigmoid:.4f}\")\n",
        "\n",
        "print(\"\\nReLU Gradients:\")\n",
        "print(f\"Gradient w.r.t. w3: {dL_dw3_relu:.4f}\")\n",
        "print(f\"Gradient w.r.t. w2: {dL_dw2_relu:.4f}\")\n",
        "print(f\"Gradient w.r.t. w1: {dL_dw1_relu:.4f}\")\n"
      ],
      "metadata": {
        "id": "Vhe9fNoYcdn1"
      },
      "execution_count": null,
      "outputs": []
    },
    {
      "cell_type": "markdown",
      "source": [
        "Output"
      ],
      "metadata": {
        "id": "hpHhy5Hxci-M"
      }
    },
    {
      "cell_type": "code",
      "source": [
        "Comparison:\n",
        "Sigmoid Gradients:\n",
        "Gradient w.r.t. w3: 0.1065\n",
        "Gradient w.r.t. w2: 0.1331\n",
        "Gradient w.r.t. w1: 0.1216\n",
        "\n",
        "ReLU Gradients:\n",
        "Gradient w.r.t. w3: 0.1094\n",
        "Gradient w.r.t. w2: 0.2188\n",
        "Gradient w.r.t. w1: 0.2734\n"
      ],
      "metadata": {
        "id": "1koh4NJycoLE"
      },
      "execution_count": null,
      "outputs": []
    }
  ]
}